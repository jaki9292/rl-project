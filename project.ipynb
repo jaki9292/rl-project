{
 "cells": [
  {
   "attachments": {},
   "cell_type": "markdown",
   "metadata": {},
   "source": [
    "# CSPB 3202 Final Project #\n",
    "\n",
    "Tyler Kinkade, jaki9292@colorado.edu\n",
    "\n",
    "GitHub: [https://github.com/jaki9292/rl-project](https://github.com/jaki9292/rl-project)\n",
    "\n",
    "## Overview ##\n",
    "\n",
    "This write-up reports on a small project to compare the effectiveness of reinforcement learning algorithms (Russell & Norvig, 2022; Sutton & Barto, 2018) within the Gymnasium (2022) \"lunar lander\" environment.\n",
    "\n",
    "The report is divided into the following sections: approach, results, discussion, and suggestions.\n",
    "\n",
    "## Approach ##\n",
    "\n",
    "This section is divided into the following subsections: environment, models, methods.\n",
    "\n",
    "### Environment ###\n",
    "\n",
    "The lunar lander environment (pictured below) simulates rocket trajectory physics with the primary aim of landing a lunar lander on a central landing pad (marked by two flags) by means of turning its three rockets (left, right, and main) on or off. The agent operating the lander is rewarded for landing slowly, in an upright position, on both legs, on or near the landing pad and penalized otherwise. Fuel is unlimited, but a penalty is made for each time an engine fires. Scores of 200 points or more are considered a solution. \n",
    "\n",
    "The observation space is described by an 8-vector comprised of the lander coordinates $(x,y)$, its linear velocities in the $x$ and $y$ directions, its angle, its angular velocity, and a boolean each for whether the left and right leg are in contact with the ground. The environment has both discrete and continuous versions, but only the discrete version is used here to facilitate the comparison of simple models. The environment gravity, wind power, and turbulence can also be specified. The starting state is the top center with a random force to it. The termination state occurs when the lander stops moving or moves outside the frame. The action space is comprised of 4 discrete actions: do nothing, fire left thruster, fire main thruster, or fire right thruster."
   ]
  },
  {
   "cell_type": "code",
   "execution_count": 1,
   "metadata": {},
   "outputs": [
    {
     "data": {
      "text/html": [
       "<img src=\"https://gymnasium.farama.org/_images/lunar_lander.gif\"/>"
      ],
      "text/plain": [
       "<IPython.core.display.Image object>"
      ]
     },
     "execution_count": 1,
     "metadata": {},
     "output_type": "execute_result"
    }
   ],
   "source": [
    "# Display Lunar Lander GIF\n",
    "from IPython.display import Image\n",
    "Image(url= \"https://gymnasium.farama.org/_images/lunar_lander.gif\")"
   ]
  },
  {
   "cell_type": "code",
   "execution_count": 2,
   "metadata": {},
   "outputs": [
    {
     "name": "stdout",
     "output_type": "stream",
     "text": [
      "Environment metadata:\n",
      " {'render_modes': ['human', 'rgb_array'], 'render_fps': 50}\n",
      "\n",
      "Observation space:\n",
      " Box([-90.        -90.         -5.         -5.         -3.1415927  -5.\n",
      "  -0.         -0.       ], [90.        90.         5.         5.         3.1415927  5.\n",
      "  1.         1.       ], (8,), float32)\n",
      "\n",
      "Action space:\n",
      " Discrete(4)\n"
     ]
    }
   ],
   "source": [
    "# Print environment parameters\n",
    "# References: \n",
    "# https://gymnasium.farama.org/api/env/\n",
    "# https://gymnasium.farama.org/environments/box2d/lunar_lander/\n",
    "\n",
    "# Install dependencies\n",
    "# pip install gymnasium\n",
    "# pip install gymnasium[box2d]\n",
    "\n",
    "import gymnasium as gym\n",
    "\n",
    "# Initialize environment\n",
    "env = gym.make(\"LunarLander-v2\", \n",
    "               continuous = False,      # Discrete version\n",
    "               gravity = -10.0, \n",
    "               enable_wind = False, \n",
    "               wind_power = 0.0, \n",
    "               turbulence_power = 0.0, \n",
    "               render_mode=\"rgb_array\") # Render for machine\n",
    "\n",
    "env.reset()\n",
    "\n",
    "print(\"Environment metadata:\\n\", env.metadata)\n",
    "print(\"\\nObservation space:\\n\", env.observation_space)\n",
    "print(\"\\nAction space:\\n\", env.action_space)"
   ]
  },
  {
   "attachments": {},
   "cell_type": "markdown",
   "metadata": {},
   "source": [
    "### Models ###\n",
    "\n",
    "Four models are compared in this project: a random agent, a simple reflex agent, a Q-learning agent, and an approximate reinforcement learning agent(Russell & Norvig, 2022; Sutton & Barto, 2018). \n",
    "\n",
    "A random agent selects any of the possible actions uniformly randomly at each step without regard to the environment. The animation above is an example of such an agent, which is obviously a poor strategy. \n",
    "\n",
    "A simple reflex agent can only react to some input but does not retain any memory of the past and, as a result, cannot learn. \n",
    "\n",
    "A Q-learning agent alternates between learning through exploration and exploiting what it has learned by choosing the optimal policy for each state. Although this is obviously better than the relatively ignorant reflex agent, Q-learning agents can quickly use up available computational capacity in large and complex environments. \n",
    "\n",
    "An approximate reinforcement learning agent is meant to address this issue by approximating a Q-learning agent through the use of a weighted linear approximation of the Q-values which it learns through exploration a certain amount of the time. Theoretically, this should simplify the computational demands.\n",
    "\n",
    "It is expected that the last two models will perform better than the first two; however, it is possible that some difficulties might arise with the two learning agents. The environment might be too complex for the Q-learning agent to learn within a reasonable time. It is also possible that approximating the optimal choices may be insufficient. \n",
    "\n",
    "### Methods ###\n",
    "\n",
    "Each model will be run for 10,000 time-steps (approximately 100 episodes) and their scores over each of the episodes will be plotted and compared. Visualizing each models' performance over successive episodes permits comparison of how each agent progressed in learning how to solve the model. This is preferable to single metrics, such as maximum or average scores which can conceal important distinctions. For example, we can discover whether an agent achieved a maximum only once, but performed poorly most of the time. Similarly, an average score can conceal unstable, fluctuating performance. Ideally, we would like to see an agent learning quickly and then stably maintaining scores over the solution threshold of 200 points.\n",
    "\n",
    "Through this methodology, we will be able to explore the advantages and disadvantages of various models and demonstrate how a solution to the problem can be explored through the modfication of features and comparison of models."
   ]
  },
  {
   "attachments": {},
   "cell_type": "markdown",
   "metadata": {},
   "source": [
    "## Results ## \n",
    "\n",
    "show the result and interpretation of your experiment. Any iterative improvements summary. demo clips\n",
    "Does it include the results summary, interpretation of experiments and visualization (e.g. performance comparison table, graphs etc)?\n",
    "\n",
    "In this section, I compare the four different models: a random agent, a simple reflex agent, a Q-learning agent, and an approximate reinforcement learning agent.\n",
    "\n",
    "### Random Agent ###\n",
    "\n",
    "As previously mentioned, the random agent selects any of the four actions randomly at each step."
   ]
  },
  {
   "cell_type": "code",
   "execution_count": 3,
   "metadata": {},
   "outputs": [
    {
     "name": "stdout",
     "output_type": "stream",
     "text": [
      "Episode 0 score: -201.8646708674159\n",
      "Episode 1 score: -23.252090445647724\n",
      "Episode 2 score: -85.31438108543946\n",
      "Episode 3 score: -160.54766679184232\n",
      "Episode 4 score: -172.0196192235644\n",
      "Episode 5 score: -243.2786599604595\n",
      "Episode 6 score: -55.92887062270887\n",
      "Episode 7 score: -247.93858464784873\n",
      "Episode 8 score: -594.8170201011028\n",
      "Episode 9 score: -138.0989838057126\n",
      "Episode 10 score: -145.0432695657327\n",
      "Episode 11 score: -103.23526914632467\n",
      "Episode 12 score: -162.69897180900898\n",
      "Episode 13 score: -124.88053808009148\n",
      "Episode 14 score: -345.71491177559994\n",
      "Episode 15 score: -278.1370027669517\n",
      "Episode 16 score: -135.09829309368672\n",
      "Episode 17 score: -204.17966670647812\n",
      "Episode 18 score: -321.1186627712949\n",
      "Episode 19 score: -506.53800348149775\n",
      "Episode 20 score: -323.6309670410643\n",
      "Episode 21 score: -325.3596726433608\n",
      "Episode 22 score: -193.59172556801568\n",
      "Episode 23 score: -275.6343699655332\n",
      "Episode 24 score: -195.61296955035925\n",
      "Episode 25 score: -95.62798265873926\n",
      "Episode 26 score: -178.8229391399433\n",
      "Episode 27 score: -122.62549142882449\n",
      "Episode 28 score: -190.76918495941894\n",
      "Episode 29 score: -188.08403690861445\n",
      "Episode 30 score: -105.21879478559131\n",
      "Episode 31 score: -116.73722283146964\n",
      "Episode 32 score: -175.23897688284237\n",
      "Episode 33 score: -262.84563327427406\n",
      "Episode 34 score: -270.7631417227153\n",
      "Episode 35 score: -126.33654517069257\n",
      "Episode 36 score: -99.52059097512323\n",
      "Episode 37 score: -113.23815731702408\n",
      "Episode 38 score: -176.1310943322478\n",
      "Episode 39 score: -221.86298880116453\n",
      "Episode 40 score: -117.60422163849883\n",
      "Episode 41 score: -209.40722253868216\n",
      "Episode 42 score: -458.60920908617516\n",
      "Episode 43 score: -114.65648071676051\n",
      "Episode 44 score: -261.9943032379832\n",
      "Episode 45 score: -93.29303756490853\n",
      "Episode 46 score: -280.0162017731316\n",
      "Episode 47 score: -317.6723843443661\n",
      "Episode 48 score: -178.4018717568541\n",
      "Episode 49 score: -87.22880408017727\n",
      "Episode 50 score: -47.30698097806717\n",
      "Episode 51 score: -434.62360512377995\n",
      "Episode 52 score: -226.39848295683805\n",
      "Episode 53 score: -169.54460236699086\n",
      "Episode 54 score: -210.46028702780592\n",
      "Episode 55 score: -326.19403404765495\n",
      "Episode 56 score: -132.28275232408504\n",
      "Episode 57 score: -135.88096188899806\n",
      "Episode 58 score: -311.28360050127253\n",
      "Episode 59 score: -125.56225064853933\n",
      "Episode 60 score: -142.60850204859923\n",
      "Episode 61 score: -66.49111771409133\n",
      "Episode 62 score: -193.3196146434057\n",
      "Episode 63 score: -129.02383165549736\n",
      "Episode 64 score: -140.26281589230376\n",
      "Episode 65 score: -349.1238557861019\n",
      "Episode 66 score: -89.31122547300734\n",
      "Episode 67 score: -179.0145501249334\n",
      "Episode 68 score: -307.5010007015291\n",
      "Episode 69 score: -417.09193098889955\n",
      "Episode 70 score: -217.26744796712623\n",
      "Episode 71 score: -111.45079361667118\n",
      "Episode 72 score: -74.54466241427826\n",
      "Episode 73 score: -318.915249016745\n",
      "Episode 74 score: -114.974856391874\n",
      "Episode 75 score: -81.57453009060517\n",
      "Episode 76 score: -149.95120998162037\n",
      "Episode 77 score: -382.82749343669366\n",
      "Episode 78 score: -62.34538918238641\n",
      "Episode 79 score: -98.2872838837764\n",
      "Episode 80 score: -70.44655375566651\n",
      "Episode 81 score: -310.0217408052046\n",
      "Episode 82 score: -403.5955802502776\n",
      "Episode 83 score: -130.19392358776315\n",
      "Episode 84 score: -304.3727580917558\n",
      "Episode 85 score: -373.5665214991095\n",
      "Episode 86 score: -82.07707323256223\n",
      "Episode 87 score: -402.4036962458763\n",
      "Episode 88 score: -177.63158751500157\n",
      "Episode 89 score: -140.99675703321458\n",
      "Episode 90 score: -171.74193081482179\n",
      "Episode 91 score: -142.02513208476267\n",
      "Episode 92 score: -363.27464033820763\n",
      "Episode 93 score: -119.27120977862612\n",
      "Episode 94 score: -66.54994747266201\n",
      "Episode 95 score: -402.2007190345742\n",
      "Episode 96 score: -156.56853488753947\n",
      "Episode 97 score: -152.9463964619415\n",
      "Episode 98 score: -86.14001267234289\n",
      "Episode 99 score: -132.11575161873662\n",
      "Episode 100 score: -365.8278503798822\n",
      "Episode 101 score: -137.57366436402583\n",
      "Episode 102 score: -135.3323372358575\n",
      "Episode 103 score: -156.41964498095257\n",
      "Episode 104 score: -234.7511933633108\n",
      "Episode 105 score: -179.29687675236698\n",
      "Episode 106 score: -335.8459356405613\n",
      "Episode 107 score: -165.70226752912868\n",
      "Episode 108 score: -77.35288053067467\n",
      "Episode 109 score: -124.17716330910307\n",
      "Episode 110 score: -79.16310604329777\n",
      "Episode 111 score: -108.48287333779086\n",
      "Average score: -197.85475481218518; Max score: -23.252090445647724\n"
     ]
    }
   ],
   "source": [
    "# Run and record random agent in lunar lander environment\n",
    "# References: \n",
    "# https://gymnasium.farama.org/\n",
    "# https://gymnasium.farama.org/api/utils/#save-rendering-videos\n",
    "# https://gymnasium.farama.org/environments/box2d/lunar_lander/\n",
    "# https://github.com/openai/gym/blob/master/gym/envs/box2d/lunar_lander.py\n",
    "\n",
    "# Install dependencies\n",
    "# pip install gymnasium\n",
    "# pip install gymnasium[box2d]\n",
    "# pip install moviepy\n",
    "\n",
    "import gymnasium as gym\n",
    "from gymnasium.utils.save_video import save_video\n",
    "import numpy as np\n",
    "from IPython.utils.capture import capture_output\n",
    "\n",
    "# Initialize environment\n",
    "env = gym.make(\"LunarLander-v2\", \n",
    "               continuous = False,          # Discrete version\n",
    "               gravity = -10.0, \n",
    "               enable_wind = False, \n",
    "               wind_power = 0.0, \n",
    "               turbulence_power = 0.0, \n",
    "               render_mode=\"rgb_array_list\") # Render for machine\n",
    "\n",
    "# Reset environment with random number generator seed for reproducibility\n",
    "observation, info = env.reset(seed = 21)\n",
    "\n",
    "# Accumulator variables\n",
    "score = 0.0\n",
    "scores = []\n",
    "episode = 0\n",
    "step_start_index = 0\n",
    "\n",
    "# Attempt for 10,000 timesteps\n",
    "for step_index in range(10000):\n",
    "\n",
    "    # Get random action from action space\n",
    "    action = env.action_space.sample()\n",
    "\n",
    "    # Obtain observation, reward, terminated status, truncated status, \n",
    "    # and environment info for given action\n",
    "    observation, reward, terminated, truncated, info = env.step(action)\n",
    "\n",
    "    # Accumulate reward total \n",
    "    score += reward\n",
    "\n",
    "    # If episode ends\n",
    "    if terminated or truncated:\n",
    "        # Append total to list of reward totals\n",
    "        scores.append(score)\n",
    "\n",
    "        # Report result\n",
    "        print(f\"Episode {episode} score: {score}\")\n",
    "\n",
    "        # Suppress MoviePy stdout\n",
    "        # https://stackoverflow.com/a/35624406/14371011\n",
    "        with capture_output() as captured:\n",
    "            # Save mp4 video of every (k^3)th (i.e., 0, 1, 8, 27, ...)\n",
    "            save_video(env.render(),\n",
    "                    video_folder = \"videos\",\n",
    "                    name_prefix = \"random_agent\",\n",
    "                    fps = env.metadata[\"render_fps\"],\n",
    "                    step_starting_index = step_start_index,\n",
    "                    episode_index = episode)\n",
    "\n",
    "        # Increment episode\n",
    "        episode += 1\n",
    "\n",
    "        # Set starting step index for videos to next step\n",
    "        step_start_index = step_index + 1\n",
    "\n",
    "        # Reset reward total\n",
    "        score = 0\n",
    "        \n",
    "        # Start new episode \n",
    "        observation, info = env.reset()\n",
    "\n",
    "env.close()\n",
    "\n",
    "ra_scores = np.array(scores)\n",
    "\n",
    "print(f\"\\nAverage score: {np.average(ra_scores)}; Max score: {np.max(ra_scores)}\")"
   ]
  },
  {
   "attachments": {},
   "cell_type": "markdown",
   "metadata": {},
   "source": [
    "[Link to video of 64<sup>th</sup> episode](videos/random_agent-episode-64.mp4)"
   ]
  },
  {
   "cell_type": "code",
   "execution_count": 4,
   "metadata": {},
   "outputs": [
    {
     "data": {
      "text/plain": [
       "41"
      ]
     },
     "execution_count": 4,
     "metadata": {},
     "output_type": "execute_result"
    }
   ],
   "source": [
    "# First 41 cubes from https://oeis.org/A000578\n",
    "cubes = [0, 1, 8, 27, 64, 125, 216, 343, 512, 729, 1000, 1331, 1728, 2197, 2744, 3375, 4096, 4913, 5832, 6859, 8000, 9261, 10648, 12167, 13824, 15625, 17576, 19683, 21952, 24389, 27000, 29791, 32768, 35937, 39304, 42875, 46656, 50653, 54872, 59319, 64000]\n",
    "len(cubes)"
   ]
  },
  {
   "cell_type": "code",
   "execution_count": 7,
   "metadata": {},
   "outputs": [
    {
     "data": {
      "image/png": "[encoded data removed]",
      "text/plain": [
       "<Figure size 640x480 with 1 Axes>"
      ]
     },
     "metadata": {},
     "output_type": "display_data"
    }
   ],
   "source": [
    "import matplotlib.pyplot as plt\n",
    "\n",
    "plt.plot(ra_scores)\n",
    "plt.ylim([-600,0])\n",
    "plt.title(\"Random Agent\")\n",
    "plt.xlabel(\"Episode\")\n",
    "plt.ylabel(\"Score\");"
   ]
  },
  {
   "attachments": {},
   "cell_type": "markdown",
   "metadata": {},
   "source": [
    "As the above graph shows, the random agent does not learn anything and never achieves a positive score on any attempt, as expected.\n",
    "\n",
    "### Simple Reflex Agent ###\n",
    "\n",
    "Next, we examine an agent who can fire its left and right thrusters in reaction to its horizontal distance from the landing pad."
   ]
  },
  {
   "cell_type": "code",
   "execution_count": 6,
   "metadata": {},
   "outputs": [],
   "source": [
    "# Simple reflex agent"
   ]
  },
  {
   "attachments": {},
   "cell_type": "markdown",
   "metadata": {},
   "source": [
    "### Q-Learning Agent ###"
   ]
  },
  {
   "attachments": {},
   "cell_type": "markdown",
   "metadata": {},
   "source": [
    "### Approximate Reinforcement Leaning Agent ###"
   ]
  },
  {
   "attachments": {},
   "cell_type": "markdown",
   "metadata": {},
   "source": [
    "## Discussion ## \n",
    "\n",
    "Does it include discussion (what went well or not and why), and suggestions for improvements or future work?"
   ]
  },
  {
   "attachments": {},
   "cell_type": "markdown",
   "metadata": {},
   "source": [
    "## Suggestions for Future Research ##\n",
    "\n",
    "\n"
   ]
  },
  {
   "attachments": {},
   "cell_type": "markdown",
   "metadata": {},
   "source": [
    "## References ##\n",
    "\n",
    "Gymnasium. (2022). _Gymnasium documentation._ Farama Foundation. [https://gymnasium.farama.org/](https://gymnasium.farama.org/)\n",
    "\n",
    "Russell, S., & Norvig, R. (2022). Artificial intelligence: A modern approach, (4th ed.). Pearson. \n",
    "\n",
    "Sutton, R. S., & Barto, A. G. (2018). Reinforcement learning: An introduction. MIT Press."
   ]
  }
 ],
 "metadata": {
  "kernelspec": {
   "display_name": "Python 3",
   "language": "python",
   "name": "python3"
  },
  "language_info": {
   "codemirror_mode": {
    "name": "ipython",
    "version": 3
   },
   "file_extension": ".py",
   "mimetype": "text/x-python",
   "name": "python",
   "nbconvert_exporter": "python",
   "pygments_lexer": "ipython3",
   "version": "3.10.6"
  },
  "orig_nbformat": 4
 },
 "nbformat": 4,
 "nbformat_minor": 2
}
